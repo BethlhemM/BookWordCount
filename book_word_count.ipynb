{
 "cells": [
  {
   "cell_type": "markdown",
   "metadata": {},
   "source": [
    "### Word Count\n",
    " \n",
    "\n",
    " - You are given a text file which is the book \"alice_in_wonderland.txt\" \n",
    " - You are required to write a program to read in this file and then find\n",
    "     \n",
    "    1. how many words in total in this book\n",
    "    2. how many unique words used in this book \n",
    "    3. for each word, find the number of occurrences (and save to disk)  \n",
    "    4. find all unique words, and the top 20 most frequently used words\n",
    "    5. display them.  \n"
   ]
  },
  {
   "cell_type": "markdown",
   "metadata": {},
   "source": [
    "## Programming requirements\n",
    "In the main (top level) \n",
    "   \n",
    "        \"\"\" \n",
    "         write Docstring  \n",
    "         \n",
    "        \"\"\"\n",
    "      - prompt the user for the text file name  \n",
    "      - use try-except to handle I/O exceptions \n",
    "          - read in the file using content manager (with ... as ...)  \n",
    "      \n",
    "      - print out total number of all words (without any processing)\n",
    "       * hint: use a word list for all words  \n",
    "      \n",
    "      - invoke your function to process them and return back:\n",
    "          (1) number of unique words \n",
    "          (2) top 20 most frequent words with counts  \n",
    "            \n",
    "      - display them\n",
    "      \n",
    "----\n",
    " You need to write a separate function:\n",
    "  \n",
    "    def a function:\n",
    "      \"\"\" \n",
    "        write Docstring for this module \n",
    "      \"\"\"\n",
    "     -  accept an integer n and a list of word string\n",
    "     -  strip all punctuations before and after a word (there is an example in the end)\n",
    "     -  convert all words to lower case\n",
    "     -  find the number of unique words\n",
    "     \n",
    "     -  use a dictionary to hold word count (pairs of word:count) for each word\n",
    "     -  sort this dictionary to alphabet order\n",
    "     -  save to a file in local disk \"alice_word_count.txt\"\n",
    "     \n",
    "     -  find the top n most frequently used words and their counts\n",
    "     \n",
    "     -  return (1) number of unique words (2) these words and counts   \n",
    "           \n",
    "     \n",
    " ---- \n",
    " "
   ]
  },
  {
   "cell_type": "code",
   "execution_count": 4,
   "metadata": {},
   "outputs": [
    {
     "name": "stdout",
     "output_type": "stream",
     "text": [
      "Type in the file name: Alice_in_wonderland.txt\n",
      "The file alice_in_wonderland.txt has about 26470 .\n",
      "Vocab:  2774\n",
      "---------------\n",
      "The top 20 words are:\n",
      "--------------------\n",
      "     the     1632\n",
      "     and     845\n",
      "     to     721\n",
      "     a     627\n",
      "     she     537\n",
      "     it     526\n",
      "     of     508\n",
      "     said     462\n",
      "     i     401\n",
      "     alice     386\n",
      "     in     367\n",
      "     you     362\n",
      "     was     357\n",
      "     that     276\n",
      "     as     262\n",
      "     her     248\n",
      "     at     210\n",
      "     on     193\n",
      "     with     180\n",
      "     all     180\n"
     ]
    }
   ],
   "source": [
    "from string import punctuation\n",
    "import os\n",
    "counter = 0\n",
    "\n",
    "file_name=input(\"Type in the file name: \")\n",
    "d = dict()\n",
    "counts = len(d) \n",
    "words = []\n",
    "\n",
    "try:\n",
    "    with open(file_name, \"r\") as file:\n",
    "        for line in file:\n",
    "            for word in line.split():\n",
    "                words.append(word)\n",
    "except IOError:\n",
    "    print(\"sorry, the file\", file_name, \"doesn't exist!\")\n",
    "\n",
    "unique_words,top_words = wordCount(20,words)\n",
    "print(\"The file alice_in_wonderland.txt has about\",len(words),\".\")\n",
    "print(\"Vocab: \",unique_words)\n",
    "print(\"-\"*15)\n",
    "print(\"The top 20 words are:\")\n",
    "print(\"-\"*20)\n",
    "for key in top_words.keys():\n",
    "    print(\" \"*4,key,\"   \",top_words[key])\n",
    "\n",
    "\n",
    "\n",
    "\n",
    "\n",
    "\n",
    "\n",
    "# This function will be used to find most freqent words\n",
    "#def ...... \n",
    "#docstring#\n",
    "\n",
    "\n",
    "    \n",
    "    \n",
    "    \n",
    "    \n",
    "    \n",
    "    \n",
    "    \n",
    "    \n",
    "    \n",
    "    "
   ]
  },
  {
   "cell_type": "code",
   "execution_count": 6,
   "metadata": {},
   "outputs": [],
   "source": [
    "# this program is used for word count\n",
    "from string import punctuation\n",
    "\"\"\"\n",
    " the function accepts an integer n and list of strings and returns unique numbers \n",
    "\"\"\"\n",
    "def wordCount(n,words):\n",
    "    for i in range(0,len(words)):\n",
    "        word = words[i]\n",
    "        word = word.strip(punctuation)\n",
    "        words[i] = word.lower()\n",
    "    \n",
    "    unique = len(set(words))\n",
    "    \n",
    "    word_count = {}\n",
    "    for key in words:\n",
    "        if key in word_count.keys():\n",
    "            word_count[key] += 1\n",
    "        else:\n",
    "            word_count[key] = 1\n",
    "    \n",
    "    sorted_keys = sorted(word_count.keys())\n",
    "    sorted_word_count = {}\n",
    "    for key in sorted_keys:\n",
    "        sorted_word_count[key] = word_count[key]\n",
    "    \n",
    "    f = open(\"alice_word_count.txt\", \"w\")\n",
    "    f.write(str(sorted_word_count))\n",
    "    f.close()\n",
    "    \n",
    "    sorted_word_count = sorted(word_count.items(), key=lambda x: x[1],reverse=True)\n",
    "    top_word_counts = {}\n",
    "    for i in range(0,n):\n",
    "        top_word_counts[sorted_word_count[i][0]]= sorted_word_count[i][1]\n",
    "    \n",
    "    return unique,top_word_counts\n",
    "\n",
    "\n",
    "\n",
    "\n",
    "\n",
    "\n",
    "\n",
    "\n"
   ]
  },
  {
   "cell_type": "code",
   "execution_count": null,
   "metadata": {},
   "outputs": [],
   "source": [
    "count,word_count = wordCount(1,[\"ccc\",\"aaa\",\"aaa\",\"b'%\",\"ccC\",\"ccc\"])"
   ]
  },
  {
   "attachments": {
    "image.png": {
     "image/png": "[encoded data removed]"
    }
   },
   "cell_type": "markdown",
   "metadata": {},
   "source": [
    "### sample run 1:\n",
    "![image.png](attachment:image.png)\n",
    "  \n",
    " "
   ]
  },
  {
   "attachments": {
    "image.png": {
     "image/png": "[encoded data removed]"
    }
   },
   "cell_type": "markdown",
   "metadata": {},
   "source": [
    "### sample run 2: \n",
    "![image.png](attachment:image.png)"
   ]
  },
  {
   "cell_type": "markdown",
   "metadata": {},
   "source": [
    "<!-- Type in the file name:alice.txt  \n",
    "Sorry, the file alice.txt does not exist. -->"
   ]
  },
  {
   "cell_type": "code",
   "execution_count": null,
   "metadata": {},
   "outputs": [],
   "source": [
    "#end"
   ]
  },
  {
   "cell_type": "markdown",
   "metadata": {},
   "source": [
    "----\n",
    "### REF: Example for removing punctuations"
   ]
  },
  {
   "cell_type": "code",
   "execution_count": null,
   "metadata": {},
   "outputs": [],
   "source": [
    "# # example for removing punctuations before and after a word\n",
    "# from string import punctuation\n",
    "\n",
    "# s = '%%HTML--,#'\n",
    "# s.strip(punctuation)"
   ]
  }
 ],
 "metadata": {
  "kernelspec": {
   "display_name": "Python 3",
   "language": "python",
   "name": "python3"
  },
  "language_info": {
   "codemirror_mode": {
    "name": "ipython",
    "version": 3
   },
   "file_extension": ".py",
   "mimetype": "text/x-python",
   "name": "python",
   "nbconvert_exporter": "python",
   "pygments_lexer": "ipython3",
   "version": "3.7.4"
  },
  "varInspector": {
   "cols": {
    "lenName": 16,
    "lenType": 16,
    "lenVar": 40
   },
   "kernels_config": {
    "python": {
     "delete_cmd_postfix": "",
     "delete_cmd_prefix": "del ",
     "library": "var_list.py",
     "varRefreshCmd": "print(var_dic_list())"
    },
    "r": {
     "delete_cmd_postfix": ") ",
     "delete_cmd_prefix": "rm(",
     "library": "var_list.r",
     "varRefreshCmd": "cat(var_dic_list()) "
    }
   },
   "types_to_exclude": [
    "module",
    "function",
    "builtin_function_or_method",
    "instance",
    "_Feature"
   ],
   "window_display": false
  }
 },
 "nbformat": 4,
 "nbformat_minor": 4
}
